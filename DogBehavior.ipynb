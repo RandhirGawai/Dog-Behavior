{
  "nbformat": 4,
  "nbformat_minor": 0,
  "metadata": {
    "colab": {
      "provenance": [],
      "collapsed_sections": [],
      "mount_file_id": "1umyu2tOoGAQsTohn1sDTpXNU2V3AA6BC",
      "authorship_tag": "ABX9TyNfC7f6ME/9TBJRKRbMyG+0",
      "include_colab_link": true
    },
    "kernelspec": {
      "name": "python3",
      "display_name": "Python 3"
    },
    "language_info": {
      "name": "python"
    }
  },
  "cells": [
    {
      "cell_type": "markdown",
      "metadata": {
        "id": "view-in-github",
        "colab_type": "text"
      },
      "source": [
        "<a href=\"https://colab.research.google.com/github/RandhirGawai/Dog-Behavior/blob/main/DogBehavior.ipynb\" target=\"_parent\"><img src=\"https://colab.research.google.com/assets/colab-badge.svg\" alt=\"Open In Colab\"/></a>"
      ]
    },
    {
      "cell_type": "code",
      "execution_count": 2,
      "metadata": {
        "id": "AuUjzxV_3Gom"
      },
      "outputs": [],
      "source": [
        "from tensorflow.keras.layers import Input, Lambda, Dense, Flatten,Conv2D\n",
        "from tensorflow.keras.models import Model\n",
        "from tensorflow.keras.applications.vgg19 import VGG19\n",
        "from tensorflow.keras.applications.resnet50 import preprocess_input\n",
        "from tensorflow.keras.preprocessing import image\n",
        "from tensorflow.keras.preprocessing.image import ImageDataGenerator,load_img\n",
        "from tensorflow.keras.models import Sequential\n",
        "import numpy as np\n",
        "from glob import glob\n",
        "import matplotlib.pyplot as plt"
      ]
    },
    {
      "cell_type": "code",
      "source": [
        "from keras.preprocessing.image import ImageDataGenerator\n",
        "IMAGE_SIZE=[224,224]\n",
        "train_path='/content/drive/MyDrive/LnB project/images/train'\n",
        "test_path='/content/drive/MyDrive/LnB project/images/test'\n"
      ],
      "metadata": {
        "id": "Uedjhf-Z4KxM"
      },
      "execution_count": 3,
      "outputs": []
    },
    {
      "cell_type": "code",
      "source": [
        "inception = VGG19(input_shape=IMAGE_SIZE + [3], weights='imagenet', include_top=False)\n"
      ],
      "metadata": {
        "id": "NGbpQChNPtay",
        "colab": {
          "base_uri": "https://localhost:8080/"
        },
        "outputId": "fa626afe-94b5-4244-cb14-15b6b227913d"
      },
      "execution_count": 4,
      "outputs": [
        {
          "output_type": "stream",
          "name": "stdout",
          "text": [
            "Downloading data from https://storage.googleapis.com/tensorflow/keras-applications/vgg19/vgg19_weights_tf_dim_ordering_tf_kernels_notop.h5\n",
            "80134624/80134624 [==============================] - 0s 0us/step\n"
          ]
        }
      ]
    },
    {
      "cell_type": "code",
      "source": [
        "for layer in inception.layers:\n",
        "  layer.trainable=False"
      ],
      "metadata": {
        "id": "GfB75lD4P3sQ"
      },
      "execution_count": 5,
      "outputs": []
    },
    {
      "cell_type": "code",
      "source": [
        "folders=glob('/content/drive/MyDrive/LnB project/images/train/*')\n",
        "folders "
      ],
      "metadata": {
        "colab": {
          "base_uri": "https://localhost:8080/"
        },
        "id": "7d1tOwO6W9Ya",
        "outputId": "9846454f-a000-4e2f-f56f-6e3ada964fb2"
      },
      "execution_count": 6,
      "outputs": [
        {
          "output_type": "execute_result",
          "data": {
            "text/plain": [
              "['/content/drive/MyDrive/LnB project/images/train/happy',\n",
              " '/content/drive/MyDrive/LnB project/images/train/relaxed',\n",
              " '/content/drive/MyDrive/LnB project/images/train/angry',\n",
              " '/content/drive/MyDrive/LnB project/images/train/sad']"
            ]
          },
          "metadata": {},
          "execution_count": 6
        }
      ]
    },
    {
      "cell_type": "code",
      "source": [
        "x=Flatten()(inception.output)\n",
        "prediction=Dense(len(folders),activation='softmax')(x)\n",
        "\n",
        "model=Model(inputs=inception.input,outputs=prediction)"
      ],
      "metadata": {
        "id": "cf0-DFLhNVc3"
      },
      "execution_count": 7,
      "outputs": []
    },
    {
      "cell_type": "code",
      "source": [
        "model.summary()"
      ],
      "metadata": {
        "colab": {
          "base_uri": "https://localhost:8080/"
        },
        "id": "pz2Qt08NXqRR",
        "outputId": "b22bb38f-8884-4652-e60a-9a18917c0f2f"
      },
      "execution_count": 8,
      "outputs": [
        {
          "output_type": "stream",
          "name": "stdout",
          "text": [
            "Model: \"model\"\n",
            "_________________________________________________________________\n",
            " Layer (type)                Output Shape              Param #   \n",
            "=================================================================\n",
            " input_1 (InputLayer)        [(None, 224, 224, 3)]     0         \n",
            "                                                                 \n",
            " block1_conv1 (Conv2D)       (None, 224, 224, 64)      1792      \n",
            "                                                                 \n",
            " block1_conv2 (Conv2D)       (None, 224, 224, 64)      36928     \n",
            "                                                                 \n",
            " block1_pool (MaxPooling2D)  (None, 112, 112, 64)      0         \n",
            "                                                                 \n",
            " block2_conv1 (Conv2D)       (None, 112, 112, 128)     73856     \n",
            "                                                                 \n",
            " block2_conv2 (Conv2D)       (None, 112, 112, 128)     147584    \n",
            "                                                                 \n",
            " block2_pool (MaxPooling2D)  (None, 56, 56, 128)       0         \n",
            "                                                                 \n",
            " block3_conv1 (Conv2D)       (None, 56, 56, 256)       295168    \n",
            "                                                                 \n",
            " block3_conv2 (Conv2D)       (None, 56, 56, 256)       590080    \n",
            "                                                                 \n",
            " block3_conv3 (Conv2D)       (None, 56, 56, 256)       590080    \n",
            "                                                                 \n",
            " block3_conv4 (Conv2D)       (None, 56, 56, 256)       590080    \n",
            "                                                                 \n",
            " block3_pool (MaxPooling2D)  (None, 28, 28, 256)       0         \n",
            "                                                                 \n",
            " block4_conv1 (Conv2D)       (None, 28, 28, 512)       1180160   \n",
            "                                                                 \n",
            " block4_conv2 (Conv2D)       (None, 28, 28, 512)       2359808   \n",
            "                                                                 \n",
            " block4_conv3 (Conv2D)       (None, 28, 28, 512)       2359808   \n",
            "                                                                 \n",
            " block4_conv4 (Conv2D)       (None, 28, 28, 512)       2359808   \n",
            "                                                                 \n",
            " block4_pool (MaxPooling2D)  (None, 14, 14, 512)       0         \n",
            "                                                                 \n",
            " block5_conv1 (Conv2D)       (None, 14, 14, 512)       2359808   \n",
            "                                                                 \n",
            " block5_conv2 (Conv2D)       (None, 14, 14, 512)       2359808   \n",
            "                                                                 \n",
            " block5_conv3 (Conv2D)       (None, 14, 14, 512)       2359808   \n",
            "                                                                 \n",
            " block5_conv4 (Conv2D)       (None, 14, 14, 512)       2359808   \n",
            "                                                                 \n",
            " block5_pool (MaxPooling2D)  (None, 7, 7, 512)         0         \n",
            "                                                                 \n",
            " flatten (Flatten)           (None, 25088)             0         \n",
            "                                                                 \n",
            " dense (Dense)               (None, 4)                 100356    \n",
            "                                                                 \n",
            "=================================================================\n",
            "Total params: 20,124,740\n",
            "Trainable params: 100,356\n",
            "Non-trainable params: 20,024,384\n",
            "_________________________________________________________________\n"
          ]
        }
      ]
    },
    {
      "cell_type": "code",
      "source": [
        "\n",
        "from tensorflow.keras.layers import MaxPooling2D\n",
        "\n",
        "### create model from scratch using cnn\n",
        "model=Sequential()\n",
        "model.add(Conv2D(filters=16, kernel_size=3, padding=\"same\", activation=\"relu\",input_shape=(224,224,3)))\n",
        "model.add(MaxPooling2D(pool_size=3))\n",
        "model.add(Conv2D(filters=32,kernel_size=3,padding=\"same\",activation=\"relu\"))\n",
        "model.add(MaxPooling2D(pool_size=3))\n",
        "model.add(Conv2D(filters=64,kernel_size=3,padding=\"same\",activation=\"relu\"))\n",
        "model.add(MaxPooling2D(pool_size=3))\n",
        "model.add(Flatten())\n",
        "model.add(Dense(500,activation=\"relu\"))\n",
        "model.add(Dense(4,activation=\"softmax\"))\n",
        "model.summary()"
      ],
      "metadata": {
        "colab": {
          "base_uri": "https://localhost:8080/"
        },
        "id": "5kt_L3f64nLz",
        "outputId": "5f41529a-cfe0-42a5-d06e-04a07c502696"
      },
      "execution_count": 9,
      "outputs": [
        {
          "output_type": "stream",
          "name": "stdout",
          "text": [
            "Model: \"sequential\"\n",
            "_________________________________________________________________\n",
            " Layer (type)                Output Shape              Param #   \n",
            "=================================================================\n",
            " conv2d (Conv2D)             (None, 224, 224, 16)      448       \n",
            "                                                                 \n",
            " max_pooling2d (MaxPooling2D  (None, 74, 74, 16)       0         \n",
            " )                                                               \n",
            "                                                                 \n",
            " conv2d_1 (Conv2D)           (None, 74, 74, 32)        4640      \n",
            "                                                                 \n",
            " max_pooling2d_1 (MaxPooling  (None, 24, 24, 32)       0         \n",
            " 2D)                                                             \n",
            "                                                                 \n",
            " conv2d_2 (Conv2D)           (None, 24, 24, 64)        18496     \n",
            "                                                                 \n",
            " max_pooling2d_2 (MaxPooling  (None, 8, 8, 64)         0         \n",
            " 2D)                                                             \n",
            "                                                                 \n",
            " flatten_1 (Flatten)         (None, 4096)              0         \n",
            "                                                                 \n",
            " dense_1 (Dense)             (None, 500)               2048500   \n",
            "                                                                 \n",
            " dense_2 (Dense)             (None, 4)                 2004      \n",
            "                                                                 \n",
            "=================================================================\n",
            "Total params: 2,074,088\n",
            "Trainable params: 2,074,088\n",
            "Non-trainable params: 0\n",
            "_________________________________________________________________\n"
          ]
        }
      ]
    },
    {
      "cell_type": "code",
      "source": [
        "model.compile(\n",
        "    loss='categorical_crossentropy',\n",
        "    optimizer='adam',\n",
        "    metrics=['accuracy']\n",
        ")"
      ],
      "metadata": {
        "id": "w_2_d8x9X6PI"
      },
      "execution_count": 10,
      "outputs": []
    },
    {
      "cell_type": "code",
      "source": [
        "from tensorflow.keras.preprocessing.image import ImageDataGenerator\n",
        "\n",
        "train_datagen = ImageDataGenerator(rescale = 1./255,\n",
        "                                   shear_range = 0.2,\n",
        "                                   zoom_range = 0.2,\n",
        "                                   horizontal_flip = True)\n",
        "\n",
        "test_datagen = ImageDataGenerator(rescale = 1./255)\n"
      ],
      "metadata": {
        "id": "9Bvp8vTSYPJd"
      },
      "execution_count": 11,
      "outputs": []
    },
    {
      "cell_type": "code",
      "source": [
        "training_set = train_datagen.flow_from_directory('/content/drive/MyDrive/LnB project/images/train',\n",
        "                                                 target_size = (224, 224),\n",
        "                                                 batch_size = 32,\n",
        "                                                 class_mode = 'categorical')"
      ],
      "metadata": {
        "colab": {
          "base_uri": "https://localhost:8080/"
        },
        "id": "sO7Rb3WRY2E5",
        "outputId": "87b6c7cc-7412-4793-c2a8-ecfb4856c491"
      },
      "execution_count": 12,
      "outputs": [
        {
          "output_type": "stream",
          "name": "stdout",
          "text": [
            "Found 2129 images belonging to 4 classes.\n"
          ]
        }
      ]
    },
    {
      "cell_type": "code",
      "source": [
        "test_set = test_datagen.flow_from_directory('/content/drive/MyDrive/LnB project/images/test',\n",
        "                                            target_size = (224, 224),\n",
        "                                            batch_size = 32,\n",
        "                                            class_mode = 'categorical')"
      ],
      "metadata": {
        "colab": {
          "base_uri": "https://localhost:8080/"
        },
        "id": "3H2v1vemavtI",
        "outputId": "fb57a1c3-ca0b-4877-be19-fea98b5c1e70"
      },
      "execution_count": 13,
      "outputs": [
        {
          "output_type": "stream",
          "name": "stdout",
          "text": [
            "Found 412 images belonging to 4 classes.\n"
          ]
        }
      ]
    },
    {
      "cell_type": "code",
      "source": [
        "r = model.fit_generator(\n",
        "  training_set,\n",
        "  validation_data=test_set,\n",
        "  epochs=15,\n",
        "  steps_per_epoch=len(training_set),\n",
        "  validation_steps=len(test_set)\n",
        ")"
      ],
      "metadata": {
        "colab": {
          "base_uri": "https://localhost:8080/"
        },
        "id": "uv5ugr_7bIEM",
        "outputId": "bd86d95a-17a8-49d5-8a64-8e6f4117a410"
      },
      "execution_count": 14,
      "outputs": [
        {
          "metadata": {
            "tags": null
          },
          "name": "stderr",
          "output_type": "stream",
          "text": [
            "/usr/local/lib/python3.7/dist-packages/ipykernel_launcher.py:6: UserWarning: `Model.fit_generator` is deprecated and will be removed in a future version. Please use `Model.fit`, which supports generators.\n",
            "  \n"
          ]
        },
        {
          "output_type": "stream",
          "name": "stdout",
          "text": [
            "Epoch 1/15\n",
            "67/67 [==============================] - 502s 7s/step - loss: 1.2513 - accuracy: 0.4932 - val_loss: 1.4921 - val_accuracy: 0.2718\n",
            "Epoch 2/15\n",
            "67/67 [==============================] - 89s 1s/step - loss: 1.2294 - accuracy: 0.4969 - val_loss: 1.6139 - val_accuracy: 0.2718\n",
            "Epoch 3/15\n",
            "67/67 [==============================] - 89s 1s/step - loss: 1.2222 - accuracy: 0.4969 - val_loss: 1.4362 - val_accuracy: 0.2718\n",
            "Epoch 4/15\n",
            "67/67 [==============================] - 89s 1s/step - loss: 1.2158 - accuracy: 0.4969 - val_loss: 1.5113 - val_accuracy: 0.2718\n",
            "Epoch 5/15\n",
            "67/67 [==============================] - 89s 1s/step - loss: 1.2000 - accuracy: 0.4984 - val_loss: 1.6637 - val_accuracy: 0.2718\n",
            "Epoch 6/15\n",
            "67/67 [==============================] - 89s 1s/step - loss: 1.2025 - accuracy: 0.4965 - val_loss: 1.5295 - val_accuracy: 0.2767\n",
            "Epoch 7/15\n",
            "67/67 [==============================] - 89s 1s/step - loss: 1.1825 - accuracy: 0.5016 - val_loss: 1.6534 - val_accuracy: 0.2816\n",
            "Epoch 8/15\n",
            "67/67 [==============================] - 89s 1s/step - loss: 1.1696 - accuracy: 0.4969 - val_loss: 1.4745 - val_accuracy: 0.2791\n",
            "Epoch 9/15\n",
            "67/67 [==============================] - 89s 1s/step - loss: 1.1625 - accuracy: 0.4979 - val_loss: 1.5784 - val_accuracy: 0.2694\n",
            "Epoch 10/15\n",
            "67/67 [==============================] - 89s 1s/step - loss: 1.1428 - accuracy: 0.5157 - val_loss: 1.4551 - val_accuracy: 0.3155\n",
            "Epoch 11/15\n",
            "67/67 [==============================] - 89s 1s/step - loss: 1.1395 - accuracy: 0.5223 - val_loss: 1.5551 - val_accuracy: 0.2840\n",
            "Epoch 12/15\n",
            "67/67 [==============================] - 89s 1s/step - loss: 1.1204 - accuracy: 0.5181 - val_loss: 1.3570 - val_accuracy: 0.3228\n",
            "Epoch 13/15\n",
            "67/67 [==============================] - 89s 1s/step - loss: 1.0825 - accuracy: 0.5373 - val_loss: 1.3658 - val_accuracy: 0.3544\n",
            "Epoch 14/15\n",
            "67/67 [==============================] - 92s 1s/step - loss: 1.0512 - accuracy: 0.5524 - val_loss: 1.4463 - val_accuracy: 0.3568\n",
            "Epoch 15/15\n",
            "67/67 [==============================] - 90s 1s/step - loss: 1.0343 - accuracy: 0.5622 - val_loss: 1.5899 - val_accuracy: 0.3131\n"
          ]
        }
      ]
    },
    {
      "cell_type": "code",
      "source": [
        "plt.plot(r.history['loss'],label='train loss')\n",
        "plt.plot(r.history['val_loss'],label='val loss')\n",
        "plt.legend()\n",
        "plt.show()\n",
        "plt.savefig(\"LossVal_loss\")\n",
        "\n",
        "plt.plot(r.history['accuracy'],label='train acc')\n",
        "plt.plot(r.history['val_accuracy'],label='val acc')\n",
        "plt.legend()\n",
        "plt.show()\n",
        "plt.savefig('AccVal_acc')\n"
      ],
      "metadata": {
        "colab": {
          "base_uri": "https://localhost:8080/",
          "height": 530
        },
        "id": "KFIvFPE-YnQK",
        "outputId": "3d640887-36db-4a1b-eae2-a82e9e1bc645"
      },
      "execution_count": 15,
      "outputs": [
        {
          "output_type": "display_data",
          "data": {
            "text/plain": [
              "<Figure size 432x288 with 1 Axes>"
            ],
            "image/png": "[encoded data removed]"
          },
          "metadata": {
            "needs_background": "light"
          }
        },
        {
          "output_type": "display_data",
          "data": {
            "text/plain": [
              "<Figure size 432x288 with 1 Axes>"
            ],
            "image/png": "[encoded data removed]"
          },
          "metadata": {
            "needs_background": "light"
          }
        },
        {
          "output_type": "display_data",
          "data": {
            "text/plain": [
              "<Figure size 432x288 with 0 Axes>"
            ]
          },
          "metadata": {}
        }
      ]
    },
    {
      "cell_type": "code",
      "source": [
        "from tensorflow.keras.models import load_model\n",
        "model.save('model_vgg19.h5')"
      ],
      "metadata": {
        "id": "mtG432__frBw"
      },
      "execution_count": 16,
      "outputs": []
    },
    {
      "cell_type": "code",
      "source": [
        "y_pred=model.predict(test_set)\n",
        "y_pred"
      ],
      "metadata": {
        "colab": {
          "base_uri": "https://localhost:8080/"
        },
        "id": "UZMICY_7hFwy",
        "outputId": "29c871f7-135c-40f6-8fa2-31e43b7debcb"
      },
      "execution_count": 17,
      "outputs": [
        {
          "output_type": "stream",
          "name": "stdout",
          "text": [
            "13/13 [==============================] - 6s 401ms/step\n"
          ]
        },
        {
          "output_type": "execute_result",
          "data": {
            "text/plain": [
              "array([[0.4179968 , 0.23985139, 0.27151987, 0.07063194],\n",
              "       [0.82549125, 0.02070615, 0.14216958, 0.01163295],\n",
              "       [0.45573068, 0.05818328, 0.41868082, 0.0674052 ],\n",
              "       ...,\n",
              "       [0.88560724, 0.05511244, 0.03427885, 0.02500135],\n",
              "       [0.49417803, 0.1794531 , 0.07316271, 0.2532061 ],\n",
              "       [0.8129244 , 0.01139387, 0.07663445, 0.09904728]], dtype=float32)"
            ]
          },
          "metadata": {},
          "execution_count": 17
        }
      ]
    },
    {
      "cell_type": "code",
      "source": [
        "import numpy as np\n",
        "y_pred=np.argmax(y_pred,axis=0)\n",
        "y_pred"
      ],
      "metadata": {
        "colab": {
          "base_uri": "https://localhost:8080/"
        },
        "id": "b1OZB5OdhiHq",
        "outputId": "d85b9b3a-f44e-45ce-e834-16b1ab3bf413"
      },
      "execution_count": 18,
      "outputs": [
        {
          "output_type": "execute_result",
          "data": {
            "text/plain": [
              "array([ 37,  49, 106,  47])"
            ]
          },
          "metadata": {},
          "execution_count": 18
        }
      ]
    },
    {
      "cell_type": "code",
      "source": [
        "from tensorflow.keras.models import load_model\n",
        "from tensorflow.keras.preprocessing import image"
      ],
      "metadata": {
        "id": "BIZBnCOBmNcv"
      },
      "execution_count": 19,
      "outputs": []
    },
    {
      "cell_type": "code",
      "source": [
        "model=load_model('model_vgg19.h5')"
      ],
      "metadata": {
        "id": "mdGCpusnnD6s"
      },
      "execution_count": 32,
      "outputs": []
    },
    {
      "cell_type": "code",
      "source": [
        "img=image.load_img('/content/drive/MyDrive/LnB project/images/test/sad/124443989_2894cb21f9_b.jpg',target_size=(224,224))\n"
      ],
      "metadata": {
        "id": "tf4lVlmsnM3b"
      },
      "execution_count": 33,
      "outputs": []
    },
    {
      "cell_type": "code",
      "source": [
        "img=image.load_img('/content/drive/MyDrive/LnB project/images/train/relaxed/1491062258_b77142edf5_b.jpg',target_size=(224,224))"
      ],
      "metadata": {
        "id": "tv1PR23jpNL0"
      },
      "execution_count": 34,
      "outputs": []
    },
    {
      "cell_type": "code",
      "source": [
        "x=image.img_to_array(img)\n",
        "x"
      ],
      "metadata": {
        "colab": {
          "base_uri": "https://localhost:8080/"
        },
        "id": "NjR1DkkUnsOw",
        "outputId": "f69e4d12-9076-4dfd-87fb-c5d71da0c531"
      },
      "execution_count": 35,
      "outputs": [
        {
          "output_type": "execute_result",
          "data": {
            "text/plain": [
              "array([[[119., 114.,  74.],\n",
              "        [113., 106.,  62.],\n",
              "        [110., 102.,  53.],\n",
              "        ...,\n",
              "        [ 43.,  43.,  51.],\n",
              "        [ 33.,  34.,  39.],\n",
              "        [ 26.,  27.,  32.]],\n",
              "\n",
              "       [[103.,  98.,  60.],\n",
              "        [104.,  97.,  55.],\n",
              "        [107.,  96.,  50.],\n",
              "        ...,\n",
              "        [ 23.,  23.,  31.],\n",
              "        [ 15.,  16.,  21.],\n",
              "        [ 23.,  24.,  29.]],\n",
              "\n",
              "       [[113., 105.,  69.],\n",
              "        [114., 105.,  66.],\n",
              "        [116., 103.,  61.],\n",
              "        ...,\n",
              "        [ 21.,  21.,  31.],\n",
              "        [ 32.,  32.,  40.],\n",
              "        [ 13.,  13.,  21.]],\n",
              "\n",
              "       ...,\n",
              "\n",
              "       [[ 26.,  33.,  17.],\n",
              "        [ 28.,  40.,  20.],\n",
              "        [ 39.,  54.,  33.],\n",
              "        ...,\n",
              "        [113., 103.,  91.],\n",
              "        [109.,  99.,  87.],\n",
              "        [105.,  95.,  83.]],\n",
              "\n",
              "       [[ 17.,  24.,   8.],\n",
              "        [ 24.,  33.,  14.],\n",
              "        [ 18.,  31.,  11.],\n",
              "        ...,\n",
              "        [111., 103.,  90.],\n",
              "        [111., 103.,  90.],\n",
              "        [106.,  98.,  85.]],\n",
              "\n",
              "       [[ 22.,  29.,  13.],\n",
              "        [ 18.,  27.,   8.],\n",
              "        [ 31.,  44.,  24.],\n",
              "        ...,\n",
              "        [108., 100.,  89.],\n",
              "        [106.,  98.,  87.],\n",
              "        [100.,  92.,  81.]]], dtype=float32)"
            ]
          },
          "metadata": {},
          "execution_count": 35
        }
      ]
    },
    {
      "cell_type": "code",
      "source": [
        "x.shape"
      ],
      "metadata": {
        "colab": {
          "base_uri": "https://localhost:8080/"
        },
        "id": "BEaH3Ym4oLDs",
        "outputId": "abeac51e-d694-400b-b24e-49d7600a9647"
      },
      "execution_count": 36,
      "outputs": [
        {
          "output_type": "execute_result",
          "data": {
            "text/plain": [
              "(224, 224, 3)"
            ]
          },
          "metadata": {},
          "execution_count": 36
        }
      ]
    },
    {
      "cell_type": "code",
      "source": [
        "x=x/255"
      ],
      "metadata": {
        "id": "Wrb3Vnj7oOOa"
      },
      "execution_count": 37,
      "outputs": []
    },
    {
      "cell_type": "code",
      "source": [
        "x=np.expand_dims(x,axis=0)\n",
        "img_data=preprocess_input(x)\n",
        "img_data.shape"
      ],
      "metadata": {
        "colab": {
          "base_uri": "https://localhost:8080/"
        },
        "id": "apWzspTyoSWi",
        "outputId": "9372dda6-cbb9-4b1d-a9ab-42d2688c8a02"
      },
      "execution_count": 38,
      "outputs": [
        {
          "output_type": "execute_result",
          "data": {
            "text/plain": [
              "(1, 224, 224, 3)"
            ]
          },
          "metadata": {},
          "execution_count": 38
        }
      ]
    },
    {
      "cell_type": "code",
      "source": [
        "model.predict(img_data)"
      ],
      "metadata": {
        "colab": {
          "base_uri": "https://localhost:8080/"
        },
        "id": "Ipii-X45oh_a",
        "outputId": "06882470-1bd6-4f1e-f47d-268f71111776"
      },
      "execution_count": 39,
      "outputs": [
        {
          "output_type": "stream",
          "name": "stdout",
          "text": [
            "1/1 [==============================] - 0s 469ms/step\n"
          ]
        },
        {
          "output_type": "execute_result",
          "data": {
            "text/plain": [
              "array([[4.1080056e-29, 0.0000000e+00, 0.0000000e+00, 1.0000000e+00]],\n",
              "      dtype=float32)"
            ]
          },
          "metadata": {},
          "execution_count": 39
        }
      ]
    },
    {
      "cell_type": "code",
      "source": [
        "preds=np.argmax(model.predict(img_data),axis=1)\n"
      ],
      "metadata": {
        "colab": {
          "base_uri": "https://localhost:8080/"
        },
        "id": "JA8H72ydrQhl",
        "outputId": "6ed17fc2-a882-45b4-dcf5-a528cb7196b2"
      },
      "execution_count": 40,
      "outputs": [
        {
          "output_type": "stream",
          "name": "stdout",
          "text": [
            "1/1 [==============================] - 0s 34ms/step\n"
          ]
        }
      ]
    },
    {
      "cell_type": "code",
      "source": [
        "preds"
      ],
      "metadata": {
        "colab": {
          "base_uri": "https://localhost:8080/"
        },
        "id": "iKC4cCQts7uN",
        "outputId": "27528ce2-b87c-44f1-8f81-38e9ef44ef1c"
      },
      "execution_count": 41,
      "outputs": [
        {
          "output_type": "execute_result",
          "data": {
            "text/plain": [
              "array([3])"
            ]
          },
          "metadata": {},
          "execution_count": 41
        }
      ]
    },
    {
      "cell_type": "code",
      "source": [
        "if preds==0:\n",
        "  preds=\"Dog is Angry\"\n",
        "elif preds==1:\n",
        "  preds=\"Dog is Happy\"\n",
        "elif preds==2:\n",
        "  preds=\"Dog is Relaxed\"\n",
        "else:\n",
        "  preds=\"Dog is Sad\"\n",
        "\n",
        "preds"
      ],
      "metadata": {
        "colab": {
          "base_uri": "https://localhost:8080/",
          "height": 35
        },
        "id": "dyTcTAK8qPv4",
        "outputId": "fbf74800-c6f0-4aea-e060-8a48cd26e534"
      },
      "execution_count": 42,
      "outputs": [
        {
          "output_type": "execute_result",
          "data": {
            "text/plain": [
              "'Dog is Sad'"
            ],
            "application/vnd.google.colaboratory.intrinsic+json": {
              "type": "string"
            }
          },
          "metadata": {},
          "execution_count": 42
        }
      ]
    }
  ]
}